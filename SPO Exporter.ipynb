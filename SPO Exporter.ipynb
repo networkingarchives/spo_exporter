{
 "cells": [
  {
   "cell_type": "code",
   "execution_count": 4,
   "id": "75662880",
   "metadata": {},
   "outputs": [
    {
     "name": "stderr",
     "output_type": "stream",
     "text": [
      "also installing the dependency ‘zip’\n",
      "\n",
      "Updating HTML index of packages in '.Library'\n",
      "Making 'packages.html' ... done\n"
     ]
    }
   ],
   "source": [
    "install.packages('openxlsx')\n",
    "\n",
    "load('/Users/Yann/Documents/non-Github/exporter/letters')\n",
    "load('/Users/Yann/Documents/non-Github/exporter/people')\n",
    "\n",
    "person_id = '15020'\n",
    "\n",
    "person_id = str_pad(person_id, 6, pad = 0)\n",
    "\n",
    "person_id = paste0(\"S\", person_id)\n",
    "\n",
    "l_filtered = letters %>%  filter(X1 == person_id | X2.x == person_id) \n",
    "people_in = people %>% filter(spo_id %in% l_filtered$X1 | spo_id %in% l_filtered$X2.x)\n",
    "\n",
    "library(openxlsx) #recall the library\n",
    "\n",
    "wb <- createWorkbook() # create a workbook\n",
    "\n",
    "addWorksheet(wb, \"Sheet\", gridLines = TRUE)\n",
    "addWorksheet(wb, \"People\", gridLines = TRUE)\n",
    "writeData(wb, \"Sheet\", l_filtered)\n",
    "writeData(wb, \"People\", people_in)\n",
    "warm1Style <- createStyle(fontColour = \"#000000\", bgFill = \"#FFFF00\")\n",
    "\n",
    "negStyle <- createStyle(fontColour = \"#9C0006\", bgFill = \"#FFC7CE\")\n",
    "posStyle <- createStyle(fontColour = \"#006100\", bgFill = \"#C6EFCE\")\n",
    "\n",
    "conditionalFormatting(wb, \"Sheet\", cols =1:19,\n",
    "                  rows = 1:nrow(l_filtered), rule = '$W1<1', style = posStyle)\n",
    "\n",
    "saveWorkbook(wb, 'test.xlsx', overwrite = TRUE)"
   ]
  },
  {
   "cell_type": "code",
   "execution_count": null,
   "id": "d08d91a7",
   "metadata": {},
   "outputs": [],
   "source": []
  }
 ],
 "metadata": {
  "kernelspec": {
   "display_name": "R",
   "language": "R",
   "name": "ir"
  },
  "language_info": {
   "codemirror_mode": "r",
   "file_extension": ".r",
   "mimetype": "text/x-r-source",
   "name": "R",
   "pygments_lexer": "r",
   "version": "3.6.1"
  }
 },
 "nbformat": 4,
 "nbformat_minor": 5
}
